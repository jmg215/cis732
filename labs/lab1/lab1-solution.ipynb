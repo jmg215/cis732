{
  "cells": [
    {
      "cell_type": "markdown",
      "metadata": {
        "id": "view-in-github",
        "colab_type": "text"
      },
      "source": [
        "<a href=\"https://colab.research.google.com/github/jmg215/cis732/blob/main/labs/lab1/lab1_solution.ipynb\" target=\"_parent\"><img src=\"https://colab.research.google.com/assets/colab-badge.svg\" alt=\"Open In Colab\"/></a>"
      ]
    },
    {
      "cell_type": "markdown",
      "metadata": {
        "id": "5DbcQsD5t2Jt"
      },
      "source": [
        ""
      ]
    },
    {
      "cell_type": "code",
      "execution_count": 60,
      "metadata": {
        "colab": {
          "base_uri": "https://localhost:8080/",
          "height": 109
        },
        "id": "nGXxZ9B3tyCh",
        "outputId": "08ca7993-f95a-496c-f907-6624b23adc77"
      },
      "outputs": [
        {
          "output_type": "execute_result",
          "data": {
            "application/vnd.google.colaboratory.intrinsic+json": {
              "type": "string"
            },
            "text/plain": [
              "'\\nLab1 of CIS732 Spring2019 (https://medium.com/@haydar_ai/learning-data-science-day-9-linear-regression-on-boston-housing-dataset-cd62a80775ef)\\n\\n1. Title: Boston Housing Data\\n\\n2. Sources:\\n   (a) Origin:  This dataset was taken from the StatLib library which is\\n                maintained at Carnegie Mellon University.\\n   (b) Creator:  Harrison, D. and Rubinfeld, D.L. \\'Hedonic prices and the \\n                 demand for clean air\\', J. Environ. Economics & Management,\\n                 vol.5, 81-102, 1978.\\n   (c) Date: July 7, 1993\\n\\n3. Past Usage:\\n   -   Used in Belsley, Kuh & Welsch, \\'Regression diagnostics ...\\', Wiley, \\n       1980.   N.B. Various transformations are used in the table on\\n       pages 244-261.\\n    -  Quinlan,R. (1993). Combining Instance-Based and Model-Based Learning.\\n       In Proceedings on the Tenth International Conference of Machine \\n       Learning, 236-243, University of Massachusetts, Amherst. Morgan\\n       Kaufmann.\\n\\n4. Relevant Information:\\n\\n   Concerns housing values in suburbs of Boston.\\n\\n5. Number of Instances: 506\\n\\n6. Number of Attributes: 13 continuous attributes (including \"class\"\\n                         attribute \"MEDV\"), 1 binary-valued attribute.\\n\\n7. Attribute Information:\\n\\n    1. CRIM      per capita crime rate by town\\n    2. ZN        proportion of residential land zoned for lots over \\n                 25,000 sq.ft.\\n    3. INDUS     proportion of non-retail business acres per town\\n    4. CHAS      Charles River dummy variable (= 1 if tract bounds \\n                 river; 0 otherwise)\\n    5. NOX       nitric oxides concentration (parts per 10 million)\\n    6. RM        average number of rooms per dwelling\\n    7. AGE       proportion of owner-occupied units built prior to 1940\\n    8. DIS       weighted distances to five Boston employment centres\\n    9. RAD       index of accessibility to radial highways\\n    10. TAX      full-value property-tax rate per $10,000\\n    11. PTRATIO  pupil-teacher ratio by town\\n    12. B        1000(Bk - 0.63)^2 where Bk is the proportion of blacks \\n                 by town\\n    13. LSTAT    % lower status of the population\\n    14. MEDV     Median value of owner-occupied homes in $1000\\'s\\n\\n8. Missing Attribute Values:  None.\\n'"
            ]
          },
          "metadata": {},
          "execution_count": 60
        }
      ],
      "source": [
        "\"\"\"\n",
        "Lab1 of CIS732 Spring2019 (https://medium.com/@haydar_ai/learning-data-science-day-9-linear-regression-on-boston-housing-dataset-cd62a80775ef)\n",
        "\n",
        "1. Title: Boston Housing Data\n",
        "\n",
        "2. Sources:\n",
        "   (a) Origin:  This dataset was taken from the StatLib library which is\n",
        "                maintained at Carnegie Mellon University.\n",
        "   (b) Creator:  Harrison, D. and Rubinfeld, D.L. 'Hedonic prices and the \n",
        "                 demand for clean air', J. Environ. Economics & Management,\n",
        "                 vol.5, 81-102, 1978.\n",
        "   (c) Date: July 7, 1993\n",
        "\n",
        "3. Past Usage:\n",
        "   -   Used in Belsley, Kuh & Welsch, 'Regression diagnostics ...', Wiley, \n",
        "       1980.   N.B. Various transformations are used in the table on\n",
        "       pages 244-261.\n",
        "    -  Quinlan,R. (1993). Combining Instance-Based and Model-Based Learning.\n",
        "       In Proceedings on the Tenth International Conference of Machine \n",
        "       Learning, 236-243, University of Massachusetts, Amherst. Morgan\n",
        "       Kaufmann.\n",
        "\n",
        "4. Relevant Information:\n",
        "\n",
        "   Concerns housing values in suburbs of Boston.\n",
        "\n",
        "5. Number of Instances: 506\n",
        "\n",
        "6. Number of Attributes: 13 continuous attributes (including \"class\"\n",
        "                         attribute \"MEDV\"), 1 binary-valued attribute.\n",
        "\n",
        "7. Attribute Information:\n",
        "\n",
        "    1. CRIM      per capita crime rate by town\n",
        "    2. ZN        proportion of residential land zoned for lots over \n",
        "                 25,000 sq.ft.\n",
        "    3. INDUS     proportion of non-retail business acres per town\n",
        "    4. CHAS      Charles River dummy variable (= 1 if tract bounds \n",
        "                 river; 0 otherwise)\n",
        "    5. NOX       nitric oxides concentration (parts per 10 million)\n",
        "    6. RM        average number of rooms per dwelling\n",
        "    7. AGE       proportion of owner-occupied units built prior to 1940\n",
        "    8. DIS       weighted distances to five Boston employment centres\n",
        "    9. RAD       index of accessibility to radial highways\n",
        "    10. TAX      full-value property-tax rate per $10,000\n",
        "    11. PTRATIO  pupil-teacher ratio by town\n",
        "    12. B        1000(Bk - 0.63)^2 where Bk is the proportion of blacks \n",
        "                 by town\n",
        "    13. LSTAT    % lower status of the population\n",
        "    14. MEDV     Median value of owner-occupied homes in $1000's\n",
        "\n",
        "8. Missing Attribute Values:  None.\n",
        "\"\"\""
      ]
    },
    {
      "cell_type": "code",
      "execution_count": 61,
      "metadata": {
        "id": "Df7GsORZIQLX"
      },
      "outputs": [],
      "source": [
        "# import packages\n",
        "%matplotlib inline \n",
        "\n",
        "import numpy as np\n",
        "import pandas as pd\n",
        "import scipy.stats as stats\n",
        "import matplotlib.pyplot as plt\n",
        "import sklearn\n",
        "import statsmodels.api as sm\n",
        "\n",
        "from sklearn import model_selection\n",
        "\n",
        "import seaborn as sns\n",
        "sns.set_style(\"whitegrid\")\n",
        "sns.set_context(\"poster\")\n",
        "\n",
        "# special matplotlib argument for improved plots\n",
        "from matplotlib import rcParams"
      ]
    },
    {
      "cell_type": "markdown",
      "metadata": {
        "id": "NsivcGkbpTYf"
      },
      "source": [
        "####  Load Dataset\n",
        "1. Load the dataset from sklearn"
      ]
    },
    {
      "cell_type": "code",
      "execution_count": 62,
      "metadata": {
        "colab": {
          "base_uri": "https://localhost:8080/"
        },
        "id": "jH2XFF1MuflN",
        "outputId": "e720b501-d0f3-4170-d24e-2bdecd4b3fd5"
      },
      "outputs": [
        {
          "output_type": "stream",
          "name": "stderr",
          "text": [
            "/usr/local/lib/python3.7/dist-packages/sklearn/utils/deprecation.py:87: FutureWarning: Function load_boston is deprecated; `load_boston` is deprecated in 1.0 and will be removed in 1.2.\n",
            "\n",
            "    The Boston housing prices dataset has an ethical problem. You can refer to\n",
            "    the documentation of this function for further details.\n",
            "\n",
            "    The scikit-learn maintainers therefore strongly discourage the use of this\n",
            "    dataset unless the purpose of the code is to study and educate about\n",
            "    ethical issues in data science and machine learning.\n",
            "\n",
            "    In this special case, you can fetch the dataset from the original\n",
            "    source::\n",
            "\n",
            "        import pandas as pd\n",
            "        import numpy as np\n",
            "\n",
            "\n",
            "        data_url = \"http://lib.stat.cmu.edu/datasets/boston\"\n",
            "        raw_df = pd.read_csv(data_url, sep=\"\\s+\", skiprows=22, header=None)\n",
            "        data = np.hstack([raw_df.values[::2, :], raw_df.values[1::2, :2]])\n",
            "        target = raw_df.values[1::2, 2]\n",
            "\n",
            "    Alternative datasets include the California housing dataset (i.e.\n",
            "    :func:`~sklearn.datasets.fetch_california_housing`) and the Ames housing\n",
            "    dataset. You can load the datasets as follows::\n",
            "\n",
            "        from sklearn.datasets import fetch_california_housing\n",
            "        housing = fetch_california_housing()\n",
            "\n",
            "    for the California housing dataset and::\n",
            "\n",
            "        from sklearn.datasets import fetch_openml\n",
            "        housing = fetch_openml(name=\"house_prices\", as_frame=True)\n",
            "\n",
            "    for the Ames housing dataset.\n",
            "    \n",
            "  warnings.warn(msg, category=FutureWarning)\n"
          ]
        }
      ],
      "source": [
        "from sklearn.datasets import load_boston\n",
        "boston = load_boston()"
      ]
    },
    {
      "cell_type": "markdown",
      "metadata": {
        "id": "V1S_Ba4DpTYh"
      },
      "source": [
        "2. Let's check the data content, data shape, and column names"
      ]
    },
    {
      "cell_type": "code",
      "execution_count": 63,
      "metadata": {
        "colab": {
          "base_uri": "https://localhost:8080/"
        },
        "id": "NXvD6xJNIinK",
        "outputId": "5cbe0bcd-2f1e-4cd9-9334-d77a3b2a2f3f"
      },
      "outputs": [
        {
          "output_type": "stream",
          "name": "stdout",
          "text": [
            "dict_keys(['data', 'target', 'feature_names', 'DESCR', 'filename', 'data_module'])\n",
            "(506, 13)\n",
            "['CRIM' 'ZN' 'INDUS' 'CHAS' 'NOX' 'RM' 'AGE' 'DIS' 'RAD' 'TAX' 'PTRATIO'\n",
            " 'B' 'LSTAT']\n"
          ]
        }
      ],
      "source": [
        "print(boston.keys())\n",
        "print(boston.data.shape)\n",
        "print(boston.feature_names)"
      ]
    },
    {
      "cell_type": "markdown",
      "metadata": {
        "id": "oFco8nt3pTYi"
      },
      "source": [
        "3. To understand what all the features mean by accessing the `DESCR`"
      ]
    },
    {
      "cell_type": "code",
      "execution_count": 64,
      "metadata": {
        "id": "nmLQtvx4I3YJ",
        "colab": {
          "base_uri": "https://localhost:8080/"
        },
        "outputId": "f3f7a7cc-5a83-4c51-e8cf-ddec5832253b"
      },
      "outputs": [
        {
          "output_type": "stream",
          "name": "stdout",
          "text": [
            ".. _boston_dataset:\n",
            "\n",
            "Boston house prices dataset\n",
            "---------------------------\n",
            "\n",
            "**Data Set Characteristics:**  \n",
            "\n",
            "    :Number of Instances: 506 \n",
            "\n",
            "    :Number of Attributes: 13 numeric/categorical predictive. Median Value (attribute 14) is usually the target.\n",
            "\n",
            "    :Attribute Information (in order):\n",
            "        - CRIM     per capita crime rate by town\n",
            "        - ZN       proportion of residential land zoned for lots over 25,000 sq.ft.\n",
            "        - INDUS    proportion of non-retail business acres per town\n",
            "        - CHAS     Charles River dummy variable (= 1 if tract bounds river; 0 otherwise)\n",
            "        - NOX      nitric oxides concentration (parts per 10 million)\n",
            "        - RM       average number of rooms per dwelling\n",
            "        - AGE      proportion of owner-occupied units built prior to 1940\n",
            "        - DIS      weighted distances to five Boston employment centres\n",
            "        - RAD      index of accessibility to radial highways\n",
            "        - TAX      full-value property-tax rate per $10,000\n",
            "        - PTRATIO  pupil-teacher ratio by town\n",
            "        - B        1000(Bk - 0.63)^2 where Bk is the proportion of black people by town\n",
            "        - LSTAT    % lower status of the population\n",
            "        - MEDV     Median value of owner-occupied homes in $1000's\n",
            "\n",
            "    :Missing Attribute Values: None\n",
            "\n",
            "    :Creator: Harrison, D. and Rubinfeld, D.L.\n",
            "\n",
            "This is a copy of UCI ML housing dataset.\n",
            "https://archive.ics.uci.edu/ml/machine-learning-databases/housing/\n",
            "\n",
            "\n",
            "This dataset was taken from the StatLib library which is maintained at Carnegie Mellon University.\n",
            "\n",
            "The Boston house-price data of Harrison, D. and Rubinfeld, D.L. 'Hedonic\n",
            "prices and the demand for clean air', J. Environ. Economics & Management,\n",
            "vol.5, 81-102, 1978.   Used in Belsley, Kuh & Welsch, 'Regression diagnostics\n",
            "...', Wiley, 1980.   N.B. Various transformations are used in the table on\n",
            "pages 244-261 of the latter.\n",
            "\n",
            "The Boston house-price data has been used in many machine learning papers that address regression\n",
            "problems.   \n",
            "     \n",
            ".. topic:: References\n",
            "\n",
            "   - Belsley, Kuh & Welsch, 'Regression diagnostics: Identifying Influential Data and Sources of Collinearity', Wiley, 1980. 244-261.\n",
            "   - Quinlan,R. (1993). Combining Instance-Based and Model-Based Learning. In Proceedings on the Tenth International Conference of Machine Learning, 236-243, University of Massachusetts, Amherst. Morgan Kaufmann.\n",
            "\n"
          ]
        }
      ],
      "source": [
        "print(boston.DESCR)"
      ]
    },
    {
      "cell_type": "markdown",
      "metadata": {
        "id": "g-1mSCYhpTYj"
      },
      "source": [
        "#### Data Preparation\n",
        "1. Read data into Pandas DataFrame and show data examples"
      ]
    },
    {
      "cell_type": "code",
      "execution_count": 65,
      "metadata": {
        "colab": {
          "base_uri": "https://localhost:8080/"
        },
        "id": "gOvGtYoyJHWw",
        "outputId": "c3c8ce6c-a89e-4c29-c1ba-05b4c0705563"
      },
      "outputs": [
        {
          "output_type": "stream",
          "name": "stdout",
          "text": [
            "        0     1     2    3      4      5     6       7    8      9     10  \\\n",
            "0  0.00632  18.0  2.31  0.0  0.538  6.575  65.2  4.0900  1.0  296.0  15.3   \n",
            "1  0.02731   0.0  7.07  0.0  0.469  6.421  78.9  4.9671  2.0  242.0  17.8   \n",
            "2  0.02729   0.0  7.07  0.0  0.469  7.185  61.1  4.9671  2.0  242.0  17.8   \n",
            "3  0.03237   0.0  2.18  0.0  0.458  6.998  45.8  6.0622  3.0  222.0  18.7   \n",
            "4  0.06905   0.0  2.18  0.0  0.458  7.147  54.2  6.0622  3.0  222.0  18.7   \n",
            "\n",
            "       11    12  \n",
            "0  396.90  4.98  \n",
            "1  396.90  9.14  \n",
            "2  392.83  4.03  \n",
            "3  394.63  2.94  \n",
            "4  396.90  5.33  \n"
          ]
        }
      ],
      "source": [
        "# TODO: read data into Pandas DataFrame format\n",
        "bos = pd.DataFrame(boston.data)\n",
        "# Show the first five rows of data\n",
        "print(bos.head())"
      ]
    },
    {
      "cell_type": "markdown",
      "metadata": {
        "id": "sZPaIYgrpTYk"
      },
      "source": [
        "2. Explore basic descriptive statistics for all the features, including mean, max, min, std, and etc."
      ]
    },
    {
      "cell_type": "code",
      "execution_count": 66,
      "metadata": {
        "colab": {
          "base_uri": "https://localhost:8080/"
        },
        "id": "6KA2exjNJS7q",
        "outputId": "ba326253-5a62-4159-bfed-c7157e502c1a"
      },
      "outputs": [
        {
          "output_type": "stream",
          "name": "stdout",
          "text": [
            "      CRIM    ZN  INDUS  CHAS    NOX     RM   AGE     DIS  RAD    TAX  \\\n",
            "0  0.00632  18.0   2.31   0.0  0.538  6.575  65.2  4.0900  1.0  296.0   \n",
            "1  0.02731   0.0   7.07   0.0  0.469  6.421  78.9  4.9671  2.0  242.0   \n",
            "2  0.02729   0.0   7.07   0.0  0.469  7.185  61.1  4.9671  2.0  242.0   \n",
            "3  0.03237   0.0   2.18   0.0  0.458  6.998  45.8  6.0622  3.0  222.0   \n",
            "4  0.06905   0.0   2.18   0.0  0.458  7.147  54.2  6.0622  3.0  222.0   \n",
            "\n",
            "   PTRATIO       B  LSTAT  \n",
            "0     15.3  396.90   4.98  \n",
            "1     17.8  396.90   9.14  \n",
            "2     17.8  392.83   4.03  \n",
            "3     18.7  394.63   2.94  \n",
            "4     18.7  396.90   5.33  \n",
            "(506,)\n",
            "      CRIM    ZN  INDUS  CHAS    NOX     RM   AGE     DIS  RAD    TAX  \\\n",
            "0  0.00632  18.0   2.31   0.0  0.538  6.575  65.2  4.0900  1.0  296.0   \n",
            "1  0.02731   0.0   7.07   0.0  0.469  6.421  78.9  4.9671  2.0  242.0   \n",
            "2  0.02729   0.0   7.07   0.0  0.469  7.185  61.1  4.9671  2.0  242.0   \n",
            "3  0.03237   0.0   2.18   0.0  0.458  6.998  45.8  6.0622  3.0  222.0   \n",
            "4  0.06905   0.0   2.18   0.0  0.458  7.147  54.2  6.0622  3.0  222.0   \n",
            "\n",
            "   PTRATIO       B  LSTAT  PRICE  \n",
            "0     15.3  396.90   4.98   24.0  \n",
            "1     17.8  396.90   9.14   21.6  \n",
            "2     17.8  392.83   4.03   34.7  \n",
            "3     18.7  394.63   2.94   33.4  \n",
            "4     18.7  396.90   5.33   36.2  \n"
          ]
        }
      ],
      "source": [
        "# TODO: show basic descriptive statistics by calling pandas api\n",
        "bos.columns = boston.feature_names\n",
        "print(bos.head())\n",
        "print(boston.target.shape)\n",
        "bos['PRICE'] = boston.target\n",
        "#reprint the headers for the boston data set with PRICE included\n",
        "print(bos.head())\n"
      ]
    },
    {
      "cell_type": "markdown",
      "metadata": {
        "id": "tN1Q26SKpTYl"
      },
      "source": [
        "3. Define target"
      ]
    },
    {
      "cell_type": "code",
      "execution_count": 67,
      "metadata": {
        "id": "KqT6rZyjJcOs",
        "colab": {
          "base_uri": "https://localhost:8080/"
        },
        "outputId": "488c910e-1883-4149-882a-a4995eff446e"
      },
      "outputs": [
        {
          "output_type": "stream",
          "name": "stdout",
          "text": [
            "             CRIM          ZN       INDUS        CHAS         NOX          RM  \\\n",
            "count  506.000000  506.000000  506.000000  506.000000  506.000000  506.000000   \n",
            "mean     3.613524   11.363636   11.136779    0.069170    0.554695    6.284634   \n",
            "std      8.601545   23.322453    6.860353    0.253994    0.115878    0.702617   \n",
            "min      0.006320    0.000000    0.460000    0.000000    0.385000    3.561000   \n",
            "25%      0.082045    0.000000    5.190000    0.000000    0.449000    5.885500   \n",
            "50%      0.256510    0.000000    9.690000    0.000000    0.538000    6.208500   \n",
            "75%      3.677083   12.500000   18.100000    0.000000    0.624000    6.623500   \n",
            "max     88.976200  100.000000   27.740000    1.000000    0.871000    8.780000   \n",
            "\n",
            "              AGE         DIS         RAD         TAX     PTRATIO           B  \\\n",
            "count  506.000000  506.000000  506.000000  506.000000  506.000000  506.000000   \n",
            "mean    68.574901    3.795043    9.549407  408.237154   18.455534  356.674032   \n",
            "std     28.148861    2.105710    8.707259  168.537116    2.164946   91.294864   \n",
            "min      2.900000    1.129600    1.000000  187.000000   12.600000    0.320000   \n",
            "25%     45.025000    2.100175    4.000000  279.000000   17.400000  375.377500   \n",
            "50%     77.500000    3.207450    5.000000  330.000000   19.050000  391.440000   \n",
            "75%     94.075000    5.188425   24.000000  666.000000   20.200000  396.225000   \n",
            "max    100.000000   12.126500   24.000000  711.000000   22.000000  396.900000   \n",
            "\n",
            "            LSTAT       PRICE  \n",
            "count  506.000000  506.000000  \n",
            "mean    12.653063   22.532806  \n",
            "std      7.141062    9.197104  \n",
            "min      1.730000    5.000000  \n",
            "25%      6.950000   17.025000  \n",
            "50%     11.360000   21.200000  \n",
            "75%     16.955000   25.000000  \n",
            "max     37.970000   50.000000  \n"
          ]
        }
      ],
      "source": [
        "#summary statistics\n",
        "#pd.set_option('display.max_columns', 20)\n",
        "print(bos.describe())\n",
        "\n",
        "#X = Boston Housing Price\n",
        "#Y = All other features\n",
        "\n",
        "X = bos.drop('PRICE', axis=1)\n",
        "# TODO: define target\n",
        "Y = bos['PRICE'] "
      ]
    },
    {
      "cell_type": "markdown",
      "metadata": {
        "id": "4BgbFt6fpTYl"
      },
      "source": [
        "4. Split the data into training and testing dataset by calling `model.train_test_split`. "
      ]
    },
    {
      "cell_type": "code",
      "execution_count": 68,
      "metadata": {
        "id": "J9xzOabAJiiP",
        "colab": {
          "base_uri": "https://localhost:8080/"
        },
        "outputId": "13850d7c-7cf0-4549-b8c2-3730ef59a4ce"
      },
      "outputs": [
        {
          "output_type": "stream",
          "name": "stdout",
          "text": [
            "(339, 13)\n",
            "(167, 13)\n",
            "(339,)\n",
            "(167,)\n"
          ]
        }
      ],
      "source": [
        "# TODO: Split the data into training and testing dataset\n",
        "# Set testing size to be 0.33\n",
        "X_train, X_test, Y_train, Y_test = sklearn.model_selection.train_test_split(X,Y,test_size = .33, random_state=5)\n",
        "print(X_train.shape)\n",
        "print(X_test.shape)\n",
        "print(Y_train.shape)\n",
        "print(Y_test.shape)"
      ]
    },
    {
      "cell_type": "markdown",
      "metadata": {
        "id": "7LUtL7eWpTYm"
      },
      "source": [
        "#### Fit the Linear Regression Model\n",
        "1. Import the linear regression model from sklearn and fit the model with training dataset."
      ]
    },
    {
      "cell_type": "code",
      "execution_count": 69,
      "metadata": {
        "id": "dpu5t3_LJ1f3",
        "colab": {
          "base_uri": "https://localhost:8080/",
          "height": 350
        },
        "outputId": "a2b309b2-fd6e-41c4-dbec-21bbffa5e018"
      },
      "outputs": [
        {
          "output_type": "display_data",
          "data": {
            "image/png": "[encoded data removed]",
            "text/plain": [
              "<Figure size 432x288 with 1 Axes>"
            ]
          },
          "metadata": {}
        }
      ],
      "source": [
        "# import the model\n",
        "from sklearn.linear_model import LinearRegression\n",
        "\n",
        "# TODO: define the model and fit it.\n",
        "lm = LinearRegression()\n",
        "lm.fit(X_train,Y_train)\n",
        "\n",
        "# TODO: Make predictions on the testing dataset\n",
        "Y_pred = lm.predict(X_test)\n",
        "\n",
        "# Plot the predicted value vs true value\n",
        "plt.scatter(Y_test, Y_pred,6)\n",
        "plt.xlabel(\"Prices: $Y_i$\")\n",
        "plt.ylabel(\"Predicted prices: $\\hat{Y}_i$\")\n",
        "plt.title(\"Prices vs Predicted prices: $Y_i$ vs $\\hat{Y}_i$\")\n",
        "plt.show()"
      ]
    },
    {
      "cell_type": "markdown",
      "metadata": {
        "id": "AgkgdDkxpTYm"
      },
      "source": [
        "2. Calculate mean square error using `sklearn.metrics.mean_squared_error`"
      ]
    },
    {
      "cell_type": "code",
      "execution_count": 70,
      "metadata": {
        "id": "tiatHU6qLv9t",
        "colab": {
          "base_uri": "https://localhost:8080/"
        },
        "outputId": "8cdf519b-0c19-41e1-ad59-51240dfd833e"
      },
      "outputs": [
        {
          "output_type": "stream",
          "name": "stdout",
          "text": [
            "28.530458765974604\n"
          ]
        }
      ],
      "source": [
        "# TODO: calculate mean square error and print it\n",
        "mse = sklearn.metrics.mean_squared_error(Y_test,Y_pred)\n",
        "print(mse)"
      ]
    }
  ],
  "metadata": {
    "colab": {
      "collapsed_sections": [],
      "name": "lab1-solution.ipynb",
      "provenance": [],
      "include_colab_link": true
    },
    "kernelspec": {
      "display_name": "Python 3",
      "language": "python",
      "name": "python3"
    },
    "language_info": {
      "codemirror_mode": {
        "name": "ipython",
        "version": 3
      },
      "file_extension": ".py",
      "mimetype": "text/x-python",
      "name": "python",
      "nbconvert_exporter": "python",
      "pygments_lexer": "ipython3",
      "version": "3.6.5"
    }
  },
  "nbformat": 4,
  "nbformat_minor": 0
}